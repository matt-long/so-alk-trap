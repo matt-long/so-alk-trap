{
 "cells": [
  {
   "cell_type": "code",
   "execution_count": 1,
   "metadata": {},
   "outputs": [],
   "source": [
    "%load_ext autoreload\n",
    "%autoreload 2"
   ]
  },
  {
   "cell_type": "code",
   "execution_count": 2,
   "metadata": {},
   "outputs": [],
   "source": [
    "import numpy as np\n",
    "import matplotlib.pyplot as plt\n",
    "import co2calc"
   ]
  },
  {
   "cell_type": "markdown",
   "metadata": {},
   "source": [
    "## constants"
   ]
  },
  {
   "cell_type": "code",
   "execution_count": 3,
   "metadata": {},
   "outputs": [],
   "source": [
    "R_earth = 6371e3 # m; earth radius\n",
    "A_earth = 4. * np.pi * R_earth**2 # m^2; earth area\n",
    "frac_lnd = 0.3 # fraction land area\n",
    "frac_ocn = 1 - frac_lnd # fraction ocean area\n",
    "\n",
    "A_ocn = A_earth * frac_ocn # m^2; ocean area\n",
    "V_ocn = 1.292e18 # m^3; ocean volume\n",
    "\n",
    "rho_ref = 1026.\n",
    "\n",
    "µmolkg_to_mmolm3 = rho_ref * 1e-6 * 1e3\n",
    "mmolm2_to_Pg = A_ocn * 12. * 1e-15 * 1e-3"
   ]
  },
  {
   "cell_type": "markdown",
   "metadata": {},
   "source": [
    "## the model\n",
    "\n",
    "Set up an analytical solution to a simple 2-box model.\n",
    "\n",
    "![](https://www.researchgate.net/profile/Nicolas_Gruber/publication/267987399/figure/fig2/AS:337104748990465@1457383443794/Schematic-of-a-two-box-model-of-the-ocean-Both-the-surface-and-the-deep-boxes-are_W640.jpg)\n",
    "\n",
    "\n",
    "The surface layer is assumed to be at equilibrium with atmospheric CO$_2$. \n",
    "Input paramters include:\n",
    "- The height of each box\n",
    "- The global alkalinity inventory\n",
    "- Export flux\n",
    "- The overturning circulation\n",
    "- Temperature and salinity"
   ]
  },
  {
   "cell_type": "code",
   "execution_count": 4,
   "metadata": {},
   "outputs": [],
   "source": [
    "# height\n",
    "h = np.array([\n",
    "    150., # surface\n",
    "    3750., #V_ocn / A_ocn - 100. #deep\n",
    "]) # m\n",
    "\n",
    "Alk_inventory = 2500. * h.sum() # mmol/m^2\n",
    "Psi_Sv = 20.\n",
    "export_PgCyr = 12\n",
    "S = 34.7\n",
    "T = 12.\n",
    "\n",
    "# The model\n",
    "Psi = Psi_Sv * 1e6 # m^3/s\n",
    "export = export_PgCyr / 365. / 86400. / 12. * 1e15 # mol/s\n",
    "\n",
    "DIC = np.ones(2)\n",
    "ALK = np.ones(2)\n",
    "\n",
    "def two_box_ocean_equil(pCO2atm=284.7, rain_ratio=0.1):\n",
    "    \"\"\"compute analytical solution for 2 box ocean model\"\"\"\n",
    "    ALK[0] = (Alk_inventory - export * rain_ratio * 2. * h[1] / Psi) / (h[1] + h[0])\n",
    "    ALK[1] = (Alk_inventory - h[0] * ALK[0]) / h[1]\n",
    "\n",
    "    \n",
    "    DIC[0] = co2calc.co2sys(S, T, pCO2=pCO2atm, ALK=ALK[0]/µmolkg_to_mmolm3).DIC * µmolkg_to_mmolm3\n",
    "    DIC[1] = DIC[0] + export / Psi\n",
    "\n",
    "    return DIC, ALK"
   ]
  },
  {
   "cell_type": "markdown",
   "metadata": {},
   "source": [
    "## sensitivity to rain ratio\n",
    "\n",
    "Solve the for equilibrium over a range of rain ratios."
   ]
  },
  {
   "cell_type": "code",
   "execution_count": 5,
   "metadata": {},
   "outputs": [],
   "source": [
    "N = 100\n",
    "dic = np.empty((N, 2))\n",
    "alk = np.empty((N, 2))\n",
    "rain_ratio = np.linspace(0.0, 0.9, N)\n",
    "for i in range(N):\n",
    "    dic[i, :], alk[i, :] = dcdt_two_box_ocean(rain_ratio=rain_ratio[i]) #rain_ratio[i])"
   ]
  },
  {
   "cell_type": "code",
   "execution_count": 6,
   "metadata": {},
   "outputs": [
    {
     "name": "stdout",
     "output_type": "stream",
     "text": [
      "reference alk surface: 2500.00 mmol/m^3\n",
      "reference alk deep: 2500.00 mmol/m^3\n",
      "\n"
     ]
    },
    {
     "data": {
      "image/png": "[encoded data removed]",
      "text/plain": [
       "<Figure size 432x288 with 1 Axes>"
      ]
     },
     "metadata": {
      "needs_background": "light"
     },
     "output_type": "display_data"
    }
   ],
   "source": [
    "plt.plot(rain_ratio, alk[:, 0] - alk[0, 0], label='Surface')\n",
    "plt.plot(rain_ratio, alk[:, 1] - alk[0, 1], label='Deep')\n",
    "plt.title('Alkalinity')\n",
    "plt.ylabel('mmol m$^{-3}$')\n",
    "plt.xlabel('Rain ratio');\n",
    "plt.legend()\n",
    "\n",
    "print(f'reference alk surface: {alk[0, 0]:.2f} mmol/m^3');\n",
    "print(f'reference alk deep: {alk[0, 1]:.2f} mmol/m^3\\n');"
   ]
  },
  {
   "cell_type": "code",
   "execution_count": 7,
   "metadata": {},
   "outputs": [
    {
     "name": "stdout",
     "output_type": "stream",
     "text": [
      "reference inventory: 36943.76 Pg C\n",
      "\n"
     ]
    },
    {
     "data": {
      "image/png": "[encoded data removed]",
      "text/plain": [
       "<Figure size 432x288 with 1 Axes>"
      ]
     },
     "metadata": {
      "needs_background": "light"
     },
     "output_type": "display_data"
    }
   ],
   "source": [
    "dic_inventory = (dic * h).sum(axis=1) * mmolm2_to_Pg # Pg\n",
    "\n",
    "plt.plot(rain_ratio, dic_inventory - dic_inventory[0])\n",
    "plt.title('Ocean C inventory')\n",
    "plt.ylabel('Pg C')\n",
    "plt.xlabel('Rain ratio');\n",
    "\n",
    "print(f'reference inventory: {dic_inventory[0]:.2f} Pg C\\n');"
   ]
  },
  {
   "cell_type": "code",
   "execution_count": null,
   "metadata": {},
   "outputs": [],
   "source": []
  }
 ],
 "metadata": {
  "kernelspec": {
   "display_name": "Python [conda env:krill]",
   "language": "python",
   "name": "conda-env-krill-py"
  },
  "language_info": {
   "codemirror_mode": {
    "name": "ipython",
    "version": 3
   },
   "file_extension": ".py",
   "mimetype": "text/x-python",
   "name": "python",
   "nbconvert_exporter": "python",
   "pygments_lexer": "ipython3",
   "version": "3.7.6"
  }
 },
 "nbformat": 4,
 "nbformat_minor": 4
}
